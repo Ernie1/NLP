{
 "cells": [
  {
   "cell_type": "markdown",
   "metadata": {},
   "source": [
    "张吉祺 16340286\n",
    "\n",
    "## 使用nltk中的wordnet语料库\n",
    "\n",
    "### (1) 找出以下单词的同义词集、查看同义词集中的所有单词、查看同义词的具体定义及例子:dog, apple, fly"
   ]
  },
  {
   "cell_type": "code",
   "execution_count": 1,
   "metadata": {},
   "outputs": [],
   "source": [
    "from nltk.corpus import wordnet as wn"
   ]
  },
  {
   "cell_type": "code",
   "execution_count": 87,
   "metadata": {},
   "outputs": [
    {
     "name": "stdout",
     "output_type": "stream",
     "text": [
      "Synset('dog.n.01')\n",
      "['dog', 'domestic_dog', 'Canis_familiaris']\n",
      "a member of the genus Canis (probably descended from the common wolf) that has been domesticated by man since prehistoric times; occurs in many breeds\n",
      "['the dog barked all night'] \n",
      "\n",
      "Synset('frump.n.01')\n",
      "['frump', 'dog']\n",
      "a dull unattractive unpleasant girl or woman\n",
      "['she got a reputation as a frump', \"she's a real dog\"] \n",
      "\n",
      "Synset('dog.n.03')\n",
      "['dog']\n",
      "informal term for a man\n",
      "['you lucky dog'] \n",
      "\n",
      "Synset('cad.n.01')\n",
      "['cad', 'bounder', 'blackguard', 'dog', 'hound', 'heel']\n",
      "someone who is morally reprehensible\n",
      "['you dirty dog'] \n",
      "\n",
      "Synset('frank.n.02')\n",
      "['frank', 'frankfurter', 'hotdog', 'hot_dog', 'dog', 'wiener', 'wienerwurst', 'weenie']\n",
      "a smooth-textured sausage of minced beef or pork usually smoked; often served on a bread roll\n",
      "[] \n",
      "\n",
      "Synset('pawl.n.01')\n",
      "['pawl', 'detent', 'click', 'dog']\n",
      "a hinged catch that fits into a notch of a ratchet to move a wheel forward or prevent it from moving backward\n",
      "[] \n",
      "\n",
      "Synset('andiron.n.01')\n",
      "['andiron', 'firedog', 'dog', 'dog-iron']\n",
      "metal supports for logs in a fireplace\n",
      "['the andirons were too hot to touch'] \n",
      "\n",
      "Synset('chase.v.01')\n",
      "['chase', 'chase_after', 'trail', 'tail', 'tag', 'give_chase', 'dog', 'go_after', 'track']\n",
      "go after with the intent to catch\n",
      "['The policeman chased the mugger down the alley', 'the dog chased the rabbit'] \n",
      "\n"
     ]
    }
   ],
   "source": [
    "def show1(word):\n",
    "    for i in wn.synsets(word):\n",
    "        print(i)\n",
    "        print(i.lemma_names())\n",
    "        print(i.definition())\n",
    "        print(i.examples(), '\\n')\n",
    "show1('dog')"
   ]
  },
  {
   "cell_type": "code",
   "execution_count": 88,
   "metadata": {},
   "outputs": [
    {
     "name": "stdout",
     "output_type": "stream",
     "text": [
      "Synset('apple.n.01')\n",
      "['apple']\n",
      "fruit with red or yellow or green skin and sweet to tart crisp whitish flesh\n",
      "[] \n",
      "\n",
      "Synset('apple.n.02')\n",
      "['apple', 'orchard_apple_tree', 'Malus_pumila']\n",
      "native Eurasian tree widely cultivated in many varieties for its firm rounded edible fruits\n",
      "[] \n",
      "\n"
     ]
    }
   ],
   "source": [
    "show1('apple')"
   ]
  },
  {
   "cell_type": "code",
   "execution_count": 89,
   "metadata": {},
   "outputs": [
    {
     "name": "stdout",
     "output_type": "stream",
     "text": [
      "Synset('fly.n.01')\n",
      "['fly']\n",
      "two-winged insects characterized by active flight\n",
      "[] \n",
      "\n",
      "Synset('tent-fly.n.01')\n",
      "['tent-fly', 'rainfly', 'fly_sheet', 'fly', 'tent_flap']\n",
      "flap consisting of a piece of canvas that can be drawn back to provide entrance to a tent\n",
      "[] \n",
      "\n",
      "Synset('fly.n.03')\n",
      "['fly', 'fly_front']\n",
      "an opening in a garment that is closed by a zipper or by buttons concealed under a fold of cloth\n",
      "[] \n",
      "\n",
      "Synset('fly.n.04')\n",
      "['fly', 'fly_ball']\n",
      "(baseball) a hit that flies up in the air\n",
      "[] \n",
      "\n",
      "Synset('fly.n.05')\n",
      "['fly']\n",
      "fisherman's lure consisting of a fishhook decorated to look like an insect\n",
      "[] \n",
      "\n",
      "Synset('fly.v.01')\n",
      "['fly', 'wing']\n",
      "travel through the air; be airborne\n",
      "['Man cannot fly'] \n",
      "\n",
      "Synset('fly.v.02')\n",
      "['fly']\n",
      "move quickly or suddenly\n",
      "['He flew about the place'] \n",
      "\n",
      "Synset('fly.v.03')\n",
      "['fly', 'aviate', 'pilot']\n",
      "operate an airplane\n",
      "['The pilot flew to Cuba'] \n",
      "\n",
      "Synset('fly.v.04')\n",
      "['fly']\n",
      "transport by aeroplane\n",
      "['We fly flowers from the Caribbean to North America'] \n",
      "\n",
      "Synset('fly.v.05')\n",
      "['fly']\n",
      "cause to fly or float\n",
      "['fly a kite'] \n",
      "\n",
      "Synset('fly.v.06')\n",
      "['fly']\n",
      "be dispersed or disseminated\n",
      "['Rumors and accusations are flying'] \n",
      "\n",
      "Synset('fly.v.07')\n",
      "['fly']\n",
      "change quickly from one emotional state to another\n",
      "['fly into a rage'] \n",
      "\n",
      "Synset('fly.v.08')\n",
      "['fly', 'fell', 'vanish']\n",
      "pass away rapidly\n",
      "['Time flies like an arrow', 'Time fleeing beneath him'] \n",
      "\n",
      "Synset('fly.v.09')\n",
      "['fly']\n",
      "travel in an airplane\n",
      "['she is flying to Cincinnati tonight', 'Are we driving or flying?'] \n",
      "\n",
      "Synset('fly.v.10')\n",
      "['fly']\n",
      "display in the air or cause to float\n",
      "['fly a kite', 'All nations fly their flags in front of the U.N.'] \n",
      "\n",
      "Synset('flee.v.01')\n",
      "['flee', 'fly', 'take_flight']\n",
      "run away quickly\n",
      "['He threw down his gun and fled'] \n",
      "\n",
      "Synset('fly.v.12')\n",
      "['fly']\n",
      "travel over (an area of land or sea) in an aircraft\n",
      "['Lindbergh was the first to fly the Atlantic'] \n",
      "\n",
      "Synset('fly.v.13')\n",
      "['fly']\n",
      "hit a fly\n",
      "[] \n",
      "\n",
      "Synset('vanish.v.05')\n",
      "['vanish', 'fly', 'vaporize']\n",
      "decrease rapidly and disappear\n",
      "['the money vanished in las Vegas', 'all my stock assets have vaporized'] \n",
      "\n",
      "Synset('fly.s.01')\n",
      "['fly']\n",
      "(British informal) not to be deceived or hoodwinked\n",
      "[] \n",
      "\n"
     ]
    }
   ],
   "source": [
    "show1('fly')"
   ]
  },
  {
   "cell_type": "markdown",
   "metadata": {},
   "source": [
    "### (2) 查看以下单词对的语义相似度:good, beautiful;good, bad; dog, cat"
   ]
  },
  {
   "cell_type": "code",
   "execution_count": 37,
   "metadata": {},
   "outputs": [
    {
     "data": {
      "text/plain": [
       "-1"
      ]
     },
     "execution_count": 37,
     "metadata": {},
     "output_type": "execute_result"
    }
   ],
   "source": [
    "def wordsim(w1, w2):\n",
    "    c1s = wn.synsets(w1)\n",
    "    c2s = wn.synsets(w2)\n",
    "    max_simpath = -1\n",
    "    for c1 in c1s:\n",
    "        for c2 in c2s:\n",
    "            sim = c1.path_similarity(c2)\n",
    "            if sim is not None and sim > max_simpath:\n",
    "                max_simpath = c1.path_similarity(c2)\n",
    "    return max_simpath\n",
    "wordsim('good', 'beautiful')"
   ]
  },
  {
   "cell_type": "markdown",
   "metadata": {},
   "source": [
    "**形容词和副词没有被组织成分类体系，不能用path_similarity计算相似度。**\n",
    "\n",
    "形容词和副词最有用的关系是similar to。"
   ]
  },
  {
   "cell_type": "code",
   "execution_count": 36,
   "metadata": {},
   "outputs": [
    {
     "data": {
      "text/plain": [
       "[Synset('bang-up.s.01'),\n",
       " Synset('good_enough.s.01'),\n",
       " Synset('goodish.s.01'),\n",
       " Synset('hot.s.15'),\n",
       " Synset('redeeming.s.02'),\n",
       " Synset('satisfactory.s.02'),\n",
       " Synset('solid.s.01'),\n",
       " Synset('superb.s.02'),\n",
       " Synset('well-behaved.s.01')]"
      ]
     },
     "execution_count": 36,
     "metadata": {},
     "output_type": "execute_result"
    }
   ],
   "source": [
    "wn.synset('good.a.01').similar_tos()"
   ]
  },
  {
   "cell_type": "code",
   "execution_count": 38,
   "metadata": {},
   "outputs": [
    {
     "data": {
      "text/plain": [
       "0.3333333333333333"
      ]
     },
     "execution_count": 38,
     "metadata": {},
     "output_type": "execute_result"
    }
   ],
   "source": [
    "wordsim('good', 'bad')"
   ]
  },
  {
   "cell_type": "code",
   "execution_count": 39,
   "metadata": {},
   "outputs": [
    {
     "data": {
      "text/plain": [
       "0.2"
      ]
     },
     "execution_count": 39,
     "metadata": {},
     "output_type": "execute_result"
    }
   ],
   "source": [
    "wordsim('dog', 'cat')"
   ]
  },
  {
   "cell_type": "markdown",
   "metadata": {},
   "source": [
    "### (3) 找出以下单词的蕴含(entailments)关系和反义词:walk, supply, hot"
   ]
  },
  {
   "cell_type": "code",
   "execution_count": 83,
   "metadata": {},
   "outputs": [
    {
     "name": "stdout",
     "output_type": "stream",
     "text": [
      "Synset('walk.n.01') [] [[], []]\n",
      "Synset('base_on_balls.n.01') [] [[], [], []]\n",
      "Synset('walk.n.03') [] [[], []]\n",
      "Synset('walk.n.04') [] [[]]\n",
      "Synset('walk.n.05') [] [[], [], []]\n",
      "Synset('walk.n.06') [] [[]]\n",
      "Synset('walk_of_life.n.01') [] [[], []]\n",
      "Synset('walk.v.01') [Synset('step.v.01')] [[Lemma('ride.v.02.ride')]]\n",
      "Synset('walk.v.02') [] [[]]\n",
      "Synset('walk.v.03') [] [[]]\n",
      "Synset('walk.v.04') [] [[]]\n",
      "Synset('walk.v.05') [] [[]]\n",
      "Synset('walk.v.06') [] [[]]\n",
      "Synset('walk.v.07') [] [[]]\n",
      "Synset('walk.v.08') [] [[]]\n",
      "Synset('walk.v.09') [] [[]]\n",
      "Synset('walk.v.10') [] [[], []]\n"
     ]
    }
   ],
   "source": [
    "def show3(word):\n",
    "    for i in wn.synsets(word):\n",
    "        print(i, i.entailments(), [i.antonyms() for i in i.lemmas()])\n",
    "show3('walk')"
   ]
  },
  {
   "cell_type": "code",
   "execution_count": 84,
   "metadata": {
    "scrolled": true
   },
   "outputs": [
    {
     "name": "stdout",
     "output_type": "stream",
     "text": [
      "Synset('supply.n.01') [] [[]]\n",
      "Synset('supply.n.02') [] [[Lemma('demand.n.02.demand')]]\n",
      "Synset('provision.n.02') [] [[], [], []]\n",
      "Synset('supply.v.01') [] [[], [], [], []]\n",
      "Synset('issue.v.02') [] [[Lemma('recall.v.06.recall')], []]\n",
      "Synset('provide.v.02') [] [[], [], [], []]\n",
      "Synset('add.v.02') [] [[], [], []]\n"
     ]
    }
   ],
   "source": [
    "show3('supply')"
   ]
  },
  {
   "cell_type": "code",
   "execution_count": 85,
   "metadata": {},
   "outputs": [
    {
     "name": "stdout",
     "output_type": "stream",
     "text": [
      "Synset('hot.a.01') [] [[Lemma('cold.a.01.cold')]]\n",
      "Synset('hot.s.02') [] [[], []]\n",
      "Synset('hot.a.03') [] [[Lemma('cold.a.02.cold')]]\n",
      "Synset('hot.s.04') [] [[]]\n",
      "Synset('hot.s.05') [] [[]]\n",
      "Synset('hot.s.06') [] [[]]\n",
      "Synset('blistering.s.03') [] [[], [], []]\n",
      "Synset('hot.s.08') [] [[]]\n",
      "Synset('hot.s.09') [] [[], []]\n",
      "Synset('hot.s.10') [] [[]]\n",
      "Synset('hot.s.11') [] [[]]\n",
      "Synset('hot.s.12') [] [[]]\n",
      "Synset('hot.s.13') [] [[], []]\n",
      "Synset('hot.s.14') [] [[]]\n",
      "Synset('hot.s.15') [] [[]]\n",
      "Synset('hot.s.16') [] [[]]\n",
      "Synset('hot.s.17') [] [[]]\n",
      "Synset('hot.s.18') [] [[]]\n",
      "Synset('hot.s.19') [] [[]]\n",
      "Synset('hot.s.20') [] [[], []]\n",
      "Synset('hot.s.21') [] [[]]\n"
     ]
    }
   ],
   "source": [
    "show3('hot')"
   ]
  },
  {
   "cell_type": "markdown",
   "metadata": {},
   "source": [
    "**使用工具 https://github.com/huggingface/neuralcoref 判断下列句子中是否存在的共指指代，有的话找出共指链**\n",
    "\n",
    "**(1)My sister has a dog. She loves him.**"
   ]
  },
  {
   "cell_type": "code",
   "execution_count": 3,
   "metadata": {},
   "outputs": [
    {
     "name": "stdout",
     "output_type": "stream",
     "text": [
      "[My sister: [My sister, She], a dog: [a dog, him]]\n"
     ]
    }
   ],
   "source": [
    "# Load your usual SpaCy model (one of SpaCy English models)\n",
    "import spacy\n",
    "nlp = spacy.load('en')\n",
    "\n",
    "# Add neural coref to SpaCy's pipe\n",
    "import neuralcoref\n",
    "neuralcoref.add_to_pipe(nlp)\n",
    "\n",
    "# You're done. You can now use NeuralCoref as you usually manipulate a SpaCy document annotations.\n",
    "doc = nlp(u'My sister has a dog. She loves him.')\n",
    "\n",
    "if doc._.has_coref:\n",
    "    print(doc._.coref_clusters)\n",
    "else:\n",
    "    print('has no coref')"
   ]
  },
  {
   "cell_type": "markdown",
   "metadata": {},
   "source": [
    "**(2)Some like to play football, others are fond of basketball.**"
   ]
  },
  {
   "cell_type": "code",
   "execution_count": 6,
   "metadata": {},
   "outputs": [
    {
     "name": "stdout",
     "output_type": "stream",
     "text": [
      "has no coref\n"
     ]
    }
   ],
   "source": [
    "doc = nlp(u'Some like to play football, others are fond of basketball.')\n",
    "\n",
    "if doc._.has_coref:\n",
    "    print(doc._.coref_clusters)\n",
    "else:\n",
    "    print('has no coref')"
   ]
  },
  {
   "cell_type": "markdown",
   "metadata": {},
   "source": [
    "**(3)The more a man knows, the more he feels his ignorance.**"
   ]
  },
  {
   "cell_type": "code",
   "execution_count": 5,
   "metadata": {},
   "outputs": [
    {
     "name": "stdout",
     "output_type": "stream",
     "text": [
      "[The: [The, the], a man: [a man, he, his]]\n"
     ]
    }
   ],
   "source": [
    "doc = nlp(u'The more a man knows, the more he feels his ignorance.')\n",
    "\n",
    "if doc._.has_coref:\n",
    "    print(doc._.coref_clusters)\n",
    "else:\n",
    "    print('has no coref')"
   ]
  }
 ],
 "metadata": {
  "kernelspec": {
   "display_name": "Python 3",
   "language": "python",
   "name": "python3"
  },
  "language_info": {
   "codemirror_mode": {
    "name": "ipython",
    "version": 3
   },
   "file_extension": ".py",
   "mimetype": "text/x-python",
   "name": "python",
   "nbconvert_exporter": "python",
   "pygments_lexer": "ipython3",
   "version": "3.7.1"
  }
 },
 "nbformat": 4,
 "nbformat_minor": 2
}
