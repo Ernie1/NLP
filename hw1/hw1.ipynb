{
 "cells": [
  {
   "cell_type": "markdown",
   "metadata": {},
   "source": [
    "统计文本中的单词数"
   ]
  },
  {
   "cell_type": "code",
   "execution_count": 1,
   "metadata": {},
   "outputs": [
    {
     "name": "stdout",
     "output_type": "stream",
     "text": [
      "1271 A\r\n",
      "   3 AA\r\n",
      "   3 AAA\r\n",
      "   1 AARP\r\n",
      "   1 ABANDONED\r\n",
      "   2 ABBA\r\n",
      "   1 ABBY\r\n",
      "  77 ABC\r\n",
      "   1 ABCNews\r\n",
      "   1 ABELSON\r\n",
      "   1 ABIGAIL\r\n",
      "   1 ABN\r\n",
      "   1 ABORTION\r\n",
      "   1 ABOUT\r\n",
      "   1 ABREU\r\n",
      "   1 ABROAD\r\n",
      "   5 AC\r\n",
      "  21 ACC\r\n",
      "   1 ACCOUNTS\r\n",
      "   1 ACCUSE\r\n",
      "   4 ACL\r\n",
      "   2 ACLU\r\n",
      "   6 ACORN\r\n",
      "   4 ACT\r\n",
      "   1 ACTION\r\n",
      "   1 ACTIONS\r\n",
      "   4 AD\r\n",
      "   2 ADAIR\r\n",
      "   2 ADAM\r\n",
      "   1 ADAMS\r\n",
      "   1 ADOPTION\r\n",
      "   2 ADP\r\n",
      "   1 ADQ\r\n",
      "   2 ADS\r\n",
      "   1 ADVISERS\r\n",
      "  40 AFC\r\n",
      "   1 AFFAIRS\r\n",
      "   1 AFGHAN\r\n",
      "   1 AFGHANISTAN\r\n",
      "   1 AFGHANS\r\n",
      "  13 AFL\r\n",
      "   4 AFRANE\r\n",
      "   2 AFRICA\r\n",
      "   1 AFTER\r\n",
      "   1 AG\r\n",
      "   1 AGE\r\n",
      "   1 AGENDA\r\n",
      "   1 AHEAD\r\n",
      "   1 AHHH\r\n",
      "   1 AHL\r\n"
     ]
    }
   ],
   "source": [
    "!tr -sc 'A-Za-z' '\\n' < nyt_200811.txt | sort | uniq -c | head -n 50"
   ]
  },
  {
   "cell_type": "markdown",
   "metadata": {},
   "source": [
    "通过将所有大写字母转换成小写字母来合并大小写"
   ]
  },
  {
   "cell_type": "code",
   "execution_count": 2,
   "metadata": {},
   "outputs": [
    {
     "name": "stdout",
     "output_type": "stream",
     "text": [
      "26747 a\r\n",
      "   3 aa\r\n",
      "   3 aaa\r\n",
      "   1 aalborg\r\n",
      "   1 aaliyah\r\n",
      "   1 aalto\r\n",
      "   2 aardvark\r\n",
      "   3 aardvarks\r\n",
      "  25 aaron\r\n",
      "   1 aarp\r\n",
      "   1 abandoibarra\r\n",
      "  18 abandon\r\n",
      "  22 abandoned\r\n",
      "   4 abandoning\r\n",
      "   1 abandonment\r\n",
      "   2 abandonments\r\n",
      "   1 abati\r\n",
      "   2 abba\r\n",
      "   8 abbas\r\n",
      "  12 abbassi\r\n",
      "   2 abbe\r\n",
      "   4 abbey\r\n",
      "   1 abbott\r\n",
      "   3 abbreviated\r\n",
      "   2 abby\r\n",
      "  77 abc\r\n",
      "   1 abchome\r\n",
      "   1 abcnews\r\n",
      "   4 abdel\r\n",
      "   1 abdellatif\r\n",
      "   3 abderrahim\r\n",
      "   3 abdi\r\n",
      "   1 abdicating\r\n",
      "  10 abdirahman\r\n",
      "   2 abdominal\r\n",
      "   4 abdoulaye\r\n",
      "   1 abdu\r\n",
      "   4 abducted\r\n",
      "   4 abduction\r\n",
      "   1 abductor\r\n",
      "  14 abdul\r\n",
      "  19 abdullah\r\n",
      "   6 abe\r\n",
      "   1 abel\r\n",
      "   5 abelson\r\n",
      "   1 abenjamin\r\n",
      "   6 abercrombie\r\n",
      "  15 abernathy\r\n",
      "   2 aberration\r\n",
      "   1 abetted\r\n"
     ]
    }
   ],
   "source": [
    "!tr 'A-Z' 'a-z' < nyt_200811.txt | tr -sc 'A-Za-z' '\\n' | sort | uniq -c | head -n 50"
   ]
  },
  {
   "cell_type": "markdown",
   "metadata": {},
   "source": [
    "不同的元音序列的频次"
   ]
  },
  {
   "cell_type": "code",
   "execution_count": 3,
   "metadata": {},
   "outputs": [
    {
     "name": "stdout",
     "output_type": "stream",
     "text": [
      "   1 \n",
      "343127 a\n",
      " 163 aa\n",
      "   3 aaa\n",
      " 458 ae\n",
      "   1 aea\n",
      "   1 aee\n",
      "   3 aeo\n",
      "  28 aeu\n",
      "21124 ai\n",
      "   5 aia\n",
      "   1 aie\n",
      "  34 aii\n",
      "  11 aiia\n",
      "   2 aiu\n",
      " 180 ao\n",
      "   4 aou\n",
      "   1 aoui\n",
      "4747 au\n",
      "   2 aue\n",
      "481609 e\n",
      "28385 ea\n",
      "   1 eai\n",
      " 222 eau\n",
      "15457 ee\n",
      "   1 eea\n",
      "   2 eee\n",
      "   2 eeee\n",
      " 125 eei\n",
      "6282 ei\n",
      "   3 eia\n",
      "   3 eie\n",
      "3186 eo\n",
      "   4 eoi\n",
      " 106 eou\n",
      " 827 eu\n",
      "269982 i\n",
      "10596 ia\n",
      "   5 iai\n",
      "   2 iau\n",
      "12694 ie\n",
      "   4 iei\n",
      "  32 ieu\n",
      " 134 ii\n",
      "   1 iia\n",
      "  20 iii\n",
      "21816 io\n",
      "   3 ioa\n",
      "   3 ioe\n",
      "   4 ioia\n",
      " 966 iou\n",
      " 439 iu\n",
      "272982 o\n",
      "3118 oa\n",
      "   1 oao\n",
      "   1 oau\n",
      "1433 oe\n",
      "   1 oea\n",
      "  28 oei\n",
      "   3 oeu\n",
      "4081 oi\n",
      "   6 oia\n",
      "   2 oie\n",
      "9378 oo\n",
      "  12 ooe\n",
      "  17 ooi\n",
      "   1 ooie\n",
      "   2 ooo\n",
      "   1 oooo\n",
      "   1 ooooo\n",
      "   2 ooooooo\n",
      "32852 ou\n",
      "   9 oua\n",
      "   5 oue\n",
      " 131 oui\n",
      "   2 ouie\n",
      "70026 u\n",
      "3419 ua\n",
      "  10 uai\n",
      "5105 ue\n",
      "  13 uea\n",
      "  87 uee\n",
      "   2 ueo\n",
      "   1 ueou\n",
      "   3 ueu\n",
      "   2 ueue\n",
      "   1 ueui\n",
      "2947 ui\n",
      "   9 uia\n",
      "  73 uie\n",
      "   1 uiou\n",
      " 152 uo\n",
      "   5 uoi\n",
      "  56 uou\n",
      "  14 uu\n"
     ]
    }
   ],
   "source": [
    "!tr 'A-Z' 'a-z' < nyt_200811.txt | tr -sc 'aeiou' '\\n' | sort | uniq -c"
   ]
  },
  {
   "cell_type": "markdown",
   "metadata": {},
   "source": [
    "找出 NYT 中最常见的50个单词"
   ]
  },
  {
   "cell_type": "code",
   "execution_count": 4,
   "metadata": {},
   "outputs": [
    {
     "name": "stdout",
     "output_type": "stream",
     "text": [
      "51631 the\r\n",
      "25478 to\r\n",
      "25476 a\r\n",
      "25411 of\r\n",
      "23862 and\r\n",
      "20441 in\r\n",
      "11602 that\r\n",
      "11380 s\r\n",
      "9602 for\r\n",
      "7962 said\r\n",
      "7911 is\r\n",
      "7850 on\r\n",
      "6692 with\r\n",
      "6616 was\r\n",
      "6527 The\r\n",
      "6161 he\r\n",
      "5805 it\r\n",
      "5656 as\r\n",
      "5226 at\r\n",
      "5186 his\r\n",
      "4665 I\r\n",
      "4659 be\r\n",
      "4521 have\r\n",
      "4451 by\r\n",
      "4217 from\r\n",
      "3986 are\r\n",
      "3965 an\r\n",
      "3894 has\r\n",
      "3770 not\r\n",
      "3719 who\r\n",
      "3529 Obama\r\n",
      "3217 had\r\n",
      "3103 they\r\n",
      "2881 will\r\n",
      "2800 this\r\n",
      "2780 their\r\n",
      "2710 about\r\n",
      "2688 or\r\n",
      "2656 but\r\n",
      "2623 t\r\n",
      "2610 more\r\n",
      "2548 were\r\n",
      "2491 would\r\n",
      "2240 been\r\n",
      "2235 But\r\n",
      "2212 one\r\n",
      "2143 you\r\n",
      "2090 It\r\n",
      "2053 we\r\n",
      "2026 up\r\n",
      "sort: Broken pipe\r\n"
     ]
    }
   ],
   "source": [
    "!tr -sc 'A-Za-z' '\\n' < nyt_200811.txt | sort | uniq -c | sort -nr | head -n 50"
   ]
  },
  {
   "cell_type": "markdown",
   "metadata": {},
   "source": [
    "找出 NYT 中以“zz”为结尾的单词"
   ]
  },
  {
   "cell_type": "code",
   "execution_count": 5,
   "metadata": {
    "scrolled": true
   },
   "outputs": [
    {
     "name": "stdout",
     "output_type": "stream",
     "text": [
      "   3 abuzz\r\n",
      "  15 buzz\r\n",
      "   4 Buzz\r\n",
      "   1 Lizz\r\n",
      "   1 pizazz\r\n",
      "   1 razzmatazz\r\n",
      "  14 jazz\r\n",
      "   7 Jazz\r\n",
      "   8 Cruz\r\n",
      "   2 Lutz\r\n"
     ]
    }
   ],
   "source": [
    "!tr -sc 'A-Za-z' '\\n' < nyt_200811.txt | sort | uniq -c | rev | sort -r | rev | head -n 10"
   ]
  },
  {
   "cell_type": "markdown",
   "metadata": {},
   "source": [
    "Bigrams"
   ]
  },
  {
   "cell_type": "code",
   "execution_count": 6,
   "metadata": {},
   "outputs": [
    {
     "name": "stdout",
     "output_type": "stream",
     "text": [
      "KBR\tsaid\r\n",
      "said\tFriday\r\n",
      "Friday\tthe\r\n",
      "the\tglobal\r\n",
      "global\teconomic\r\n",
      "economic\tdownturn\r\n",
      "downturn\tso\r\n",
      "so\tfar\r\n",
      "far\thas\r\n",
      "has\thad\r\n"
     ]
    }
   ],
   "source": [
    "!tr -sc 'A-Za-z' '\\n' < nyt_200811.txt > nyt.words\n",
    "!tail -n +2 nyt.words > nyt.nextwords\n",
    "!paste nyt.words nyt.nextwords > nyt.bigrams\n",
    "!head nyt.bigrams"
   ]
  },
  {
   "cell_type": "markdown",
   "metadata": {},
   "source": [
    "找出10个最常见的二元语法"
   ]
  },
  {
   "cell_type": "code",
   "execution_count": 7,
   "metadata": {},
   "outputs": [
    {
     "name": "stdout",
     "output_type": "stream",
     "text": [
      "6256 of\tthe\r\n",
      "5394 in\tthe\r\n",
      "2366 to\tthe\r\n",
      "2184 on\tthe\r\n",
      "1901 for\tthe\r\n",
      "1747 in\ta\r\n",
      "1732 and\tthe\r\n",
      "1486 it\ts\r\n",
      "1460 at\tthe\r\n",
      "1418 to\tbe\r\n",
      "sort: Broken pipe\r\n"
     ]
    }
   ],
   "source": [
    "!tr 'A-Z' 'a-z' < nyt.bigrams | sort | uniq -c | sort -nr | head"
   ]
  },
  {
   "cell_type": "markdown",
   "metadata": {},
   "source": [
    "找出10个最常见的三元语法"
   ]
  },
  {
   "cell_type": "code",
   "execution_count": 8,
   "metadata": {},
   "outputs": [
    {
     "name": "stdout",
     "output_type": "stream",
     "text": [
      " 430 one\tof\tthe\n",
      " 367 the\tunited\tstates\n",
      " 340 a\tlot\tof\n",
      " 240 the\twhite\thouse\n",
      " 236 i\tdon\tt\n",
      " 229 it\ts\ta\n",
      " 210 the\tu\ts\n",
      " 206 as\twell\tas\n",
      " 202 the\tnation\ts\n",
      " 187 some\tof\tthe\n",
      "sort: Broken pipe\n"
     ]
    }
   ],
   "source": [
    "!tail -n +3 nyt.words > nyt.nnwords\n",
    "!paste nyt.bigrams nyt.nnwords > nyt.trigrams\n",
    "!tr 'A-Z' 'a-z' < nyt.trigrams | sort | uniq -c | sort -nr | head"
   ]
  },
  {
   "cell_type": "markdown",
   "metadata": {},
   "source": [
    "NYT文件中，有多少字母全为大写的单词?"
   ]
  },
  {
   "cell_type": "code",
   "execution_count": 9,
   "metadata": {},
   "outputs": [
    {
     "name": "stdout",
     "output_type": "stream",
     "text": [
      "   16380\r\n"
     ]
    }
   ],
   "source": [
    "!egrep ^[A-Z]+$ nyt.words | wc -l"
   ]
  },
  {
   "cell_type": "markdown",
   "metadata": {},
   "source": [
    "共有多少4位字母的单词?"
   ]
  },
  {
   "cell_type": "code",
   "execution_count": 10,
   "metadata": {},
   "outputs": [
    {
     "name": "stdout",
     "output_type": "stream",
     "text": [
      "  169549\r\n"
     ]
    }
   ],
   "source": [
    "!egrep ^[A-Za-z]\\{4\\}$ nyt.words | wc -l"
   ]
  },
  {
   "cell_type": "markdown",
   "metadata": {},
   "source": [
    "共有多少不含元音的单词?"
   ]
  },
  {
   "cell_type": "code",
   "execution_count": 11,
   "metadata": {},
   "outputs": [
    {
     "name": "stdout",
     "output_type": "stream",
     "text": [
      "   28581\r\n"
     ]
    }
   ],
   "source": [
    "!egrep ^[^aeiouAEIOU]+$ nyt.words | wc -l"
   ]
  },
  {
   "cell_type": "markdown",
   "metadata": {},
   "source": [
    "共有多少单音节单词?"
   ]
  },
  {
   "cell_type": "code",
   "execution_count": 12,
   "metadata": {},
   "outputs": [
    {
     "name": "stdout",
     "output_type": "stream",
     "text": [
      "  565259\r\n"
     ]
    }
   ],
   "source": [
    "!egrep ^[^aeiouAEIOU]*[aeiouAEIOU]+[^aeiouAEIOU]*$ nyt.words | wc -l"
   ]
  }
 ],
 "metadata": {
  "kernelspec": {
   "display_name": "Python 3",
   "language": "python",
   "name": "python3"
  },
  "language_info": {
   "codemirror_mode": {
    "name": "ipython",
    "version": 3
   },
   "file_extension": ".py",
   "mimetype": "text/x-python",
   "name": "python",
   "nbconvert_exporter": "python",
   "pygments_lexer": "ipython3",
   "version": "3.7.1"
  }
 },
 "nbformat": 4,
 "nbformat_minor": 2
}
