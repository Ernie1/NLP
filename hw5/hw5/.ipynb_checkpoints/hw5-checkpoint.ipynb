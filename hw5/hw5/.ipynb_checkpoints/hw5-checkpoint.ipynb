{
 "cells": [
  {
   "cell_type": "code",
   "execution_count": null,
   "metadata": {},
   "outputs": [],
   "source": [
    "import string\n",
    "import re\n",
    "import nltk"
   ]
  },
  {
   "cell_type": "markdown",
   "metadata": {},
   "source": [
    "**1. 使用正向最大匹配算法，利用给定的数据：字典文件corpus.dict.txt，对语料corpus.sentence.txt进行分词，将分词的结果输出到文件corpus.out.txt中**\n",
    "\n",
    "FMM算法思想\n",
    "\n",
    "1. 假定词典中最长的单词长度为m，从左至右取待分词的前m个字符串作为匹配字段。\n",
    "2. 查找字典，如果字典中存在和匹配字段相同的词语，则匹配成功，否则去掉匹配字段的最后一个字符重新匹配\n",
    "3. 重复以上过程直到匹配全部完成\n",
    "\n",
    "**2. 选做：比较正向、逆向、双向匹配的分词效果**\n",
    "\n",
    "双向最大匹配法是将FMM和BMM的到的结果进行比较，从而决定正确的分词方法。\n",
    "\n",
    "1. 如果正反向匹配算法得到的结果相同，我们则认为分词正确，返回任意一个 结果即可。\n",
    "2. 如果正反向匹配算法得到的结果不同，选择分词数量较少的结果"
   ]
  },
  {
   "cell_type": "code",
   "execution_count": 101,
   "metadata": {},
   "outputs": [],
   "source": [
    "# 加载字典\n",
    "def load_word_list():\n",
    "    max_length = 0\n",
    "    word_dict = set()\n",
    "    for line in open('./data/corpus.dict.txt',encoding='utf-8',errors='ignore').readlines():\n",
    "        tmp = len(line)\n",
    "        if(max_length < tmp):\n",
    "            max_length = tmp\n",
    "        word_dict.add(line.strip())\n",
    "    return max_length, word_dict\n",
    "\n",
    "# 中文标点\n",
    "pattern = re.compile('[%s]' % re.escape('\\u3002\\uff1b\\uff0c\\uff1a\\u201c\\u201d\\uff08\\uff09\\u3001\\uff1f\\u300a\\u300b'))\n",
    "\n",
    "# 最大正向匹配\n",
    "def max_left_match(line):\n",
    "    result = []\n",
    "    # 去标点\n",
    "    sentences = pattern.split(line)\n",
    "    for s in sentences:\n",
    "        start = 0\n",
    "        end = max_length\n",
    "        if len(s):\n",
    "            while start < len(s):\n",
    "                if s[start : end] in word_dict or end == start + 1:\n",
    "                    result.append(s[start : end])\n",
    "                    start = end\n",
    "                    end = start + max_length\n",
    "                else:\n",
    "                    end -= 1\n",
    "    return result\n",
    "\n",
    "# 最大反向匹配\n",
    "def max_right_match(line):\n",
    "    result = []\n",
    "    # 去标点\n",
    "    sentences = pattern.split(line)\n",
    "    for s in reversed(sentences):\n",
    "        start = max(len(s) - max_length, 0)\n",
    "        end = len(s)\n",
    "        while end > 0:\n",
    "            if s[start : end] in word_dict or end == start + 1:\n",
    "                result.insert(0, s[start : end])\n",
    "                end = start\n",
    "                start = max(end - max_length, 0)\n",
    "            else:\n",
    "                start += 1\n",
    "    return result\n",
    "\n",
    "# 双向最大匹配法\n",
    "def bi_direction_match(line):\n",
    "    l = max_left_match(line)\n",
    "    r = max_right_match(line)\n",
    "    if l == r:\n",
    "        return l\n",
    "    elif len(l) < len(r):\n",
    "        return l\n",
    "    else:\n",
    "        return r\n",
    "\n",
    "# 测试\n",
    "def test(filename, function):\n",
    "    with open(filename, 'w') as f:\n",
    "        for line in open('./data/corpus.sentence.txt',encoding='utf-8',errors='ignore').read().splitlines():\n",
    "            seg = function(line)\n",
    "            if len(seg) > 0:\n",
    "                f.write(seg[0])\n",
    "                for i in range(1, len(seg)):\n",
    "                    f.write('/' + seg[i])\n",
    "                f.write('\\n')\n",
    "        f.close()\n",
    "\n",
    "if __name__ == '__main__':\n",
    "    test('./data/corpus.out.txt', max_left_match)\n",
    "    test('./data/corpus.out.right.txt', max_right_match)\n",
    "    test('./data/corpus.out.bi.txt', bi_direction_match)"
   ]
  },
  {
   "cell_type": "markdown",
   "metadata": {},
   "source": [
    "3. 使用jieba/ntlk等工具，查看词性标注结果"
   ]
  }
 ],
 "metadata": {
  "kernelspec": {
   "display_name": "Python 3",
   "language": "python",
   "name": "python3"
  },
  "language_info": {
   "codemirror_mode": {
    "name": "ipython",
    "version": 3
   },
   "file_extension": ".py",
   "mimetype": "text/x-python",
   "name": "python",
   "nbconvert_exporter": "python",
   "pygments_lexer": "ipython3",
   "version": "3.7.1"
  }
 },
 "nbformat": 4,
 "nbformat_minor": 2
}
