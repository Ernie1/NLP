{
 "cells": [
  {
   "cell_type": "markdown",
   "metadata": {},
   "source": [
    "张吉祺 16340286"
   ]
  },
  {
   "cell_type": "code",
   "execution_count": 2,
   "metadata": {},
   "outputs": [],
   "source": [
    "import nltk"
   ]
  },
  {
   "cell_type": "markdown",
   "metadata": {},
   "source": [
    "**1. 使用nltk工具对以下获得以下句子的词性标注:**\n",
    "\n",
    "the lawyer questioned the witness about the revolver"
   ]
  },
  {
   "cell_type": "code",
   "execution_count": 6,
   "metadata": {
    "scrolled": true
   },
   "outputs": [
    {
     "data": {
      "text/plain": [
       "[('the', 'DT'),\n",
       " ('lawyer', 'NN'),\n",
       " ('questioned', 'VBD'),\n",
       " ('the', 'DT'),\n",
       " ('witness', 'NN'),\n",
       " ('about', 'IN'),\n",
       " ('the', 'DT'),\n",
       " ('revolver', 'NN')]"
      ]
     },
     "execution_count": 6,
     "metadata": {},
     "output_type": "execute_result"
    }
   ],
   "source": [
    "nltk.pos_tag(nltk.word_tokenize('the lawyer questioned the witness about the revolver'))"
   ]
  },
  {
   "cell_type": "markdown",
   "metadata": {},
   "source": [
    "**2. 使用自底向上，或者自顶向下构建方法，得到所有可能的句法树，比如：**\n",
    "\n",
    "**对于句子：**the boy saw the dog with a rod\n",
    "\n",
    "一个可能的结果为：\n",
    "```\n",
    "(S\n",
    "  (NP (DT the) (NN boy))\n",
    "  (VP\n",
    "    (VBD saw)\n",
    "    (NP (DT the) (NN dog) (PP (IN with) (NP (DT a) (NN rod))))))\n",
    "```"
   ]
  },
  {
   "cell_type": "markdown",
   "metadata": {},
   "source": [
    "![](1.jpg)"
   ]
  },
  {
   "cell_type": "code",
   "execution_count": 11,
   "metadata": {},
   "outputs": [
    {
     "name": "stdout",
     "output_type": "stream",
     "text": [
      "(S\n",
      "  (NP (DT the) (NN boy))\n",
      "  (VP\n",
      "    (VBD saw)\n",
      "    (NP (DT the) (NN dog) (PP (IN with) (NP (DT a) (NN rod))))))\n",
      "(S\n",
      "  (NP (DT the) (NN boy))\n",
      "  (VP\n",
      "    (VBD saw)\n",
      "    (NP (DT the) (NN dog))\n",
      "    (PP (IN with) (NP (DT a) (NN rod)))))\n"
     ]
    }
   ],
   "source": [
    "grammar = nltk.CFG.fromstring(\"\"\"\n",
    "    S -> NP VP\n",
    "    VP -> VBD NP | VBD NP PP\n",
    "    PP -> IN NP\n",
    "    NP -> DT NN | DT NN PP\n",
    "    DT -> \"the\" | \"a\"\n",
    "    NN -> \"boy\" | \"dog\" | \"rod\"\n",
    "    VBD -> \"saw\"\n",
    "    IN -> \"with\"\n",
    "    \"\"\")\n",
    "words = nltk.word_tokenize('the boy saw the dog with a rod')\n",
    "tags = nltk.pos_tag(words)\n",
    "rd_parser = nltk.RecursiveDescentParser(grammar)\n",
    "for tree in rd_parser.parse(words):\n",
    "    print(tree)"
   ]
  }
 ],
 "metadata": {
  "kernelspec": {
   "display_name": "Python 3",
   "language": "python",
   "name": "python3"
  },
  "language_info": {
   "codemirror_mode": {
    "name": "ipython",
    "version": 3
   },
   "file_extension": ".py",
   "mimetype": "text/x-python",
   "name": "python",
   "nbconvert_exporter": "python",
   "pygments_lexer": "ipython3",
   "version": "3.7.1"
  }
 },
 "nbformat": 4,
 "nbformat_minor": 2
}
