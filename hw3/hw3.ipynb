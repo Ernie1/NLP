{
 "cells": [
  {
   "cell_type": "markdown",
   "metadata": {},
   "source": [
    "请用python实现求解最小编辑距离函数"
   ]
  },
  {
   "cell_type": "code",
   "execution_count": 1,
   "metadata": {},
   "outputs": [],
   "source": [
    "def editdis(s1, s2):\n",
    "    len_s1 = len(s1) + 1\n",
    "    len_s2 = len(s2) + 1\n",
    "    mat = [0] * len_s1 * len_s2\n",
    "    for i in range(len_s1):\n",
    "        mat[i] = i\n",
    "    for j in range(0, len_s1 * len_s2, len_s1):\n",
    "        if j % len_s1 == 0:\n",
    "            mat[j] = j\n",
    "    for i in range(1, len_s1):\n",
    "        for j in range(1, len_s2):\n",
    "            cost = 0 if s1[i-1] == s2[j-1] else 1\n",
    "            mat[j*len_s1+i] = min(mat[(j-1)*len_s1+i] + 1,\n",
    "                                 mat[j*len_s1+i-1] + 1,\n",
    "                                 mat[(j-1)*len_s1+i-1] + cost)\n",
    "    return mat[-1]"
   ]
  },
  {
   "cell_type": "code",
   "execution_count": 2,
   "metadata": {},
   "outputs": [
    {
     "data": {
      "text/plain": [
       "3"
      ]
     },
     "execution_count": 2,
     "metadata": {},
     "output_type": "execute_result"
    }
   ],
   "source": [
    "editdis('horse','ros')"
   ]
  },
  {
   "cell_type": "code",
   "execution_count": 3,
   "metadata": {},
   "outputs": [
    {
     "data": {
      "text/plain": [
       "5"
      ]
     },
     "execution_count": 3,
     "metadata": {},
     "output_type": "execute_result"
    }
   ],
   "source": [
    "editdis('intention','execution')"
   ]
  }
 ],
 "metadata": {
  "kernelspec": {
   "display_name": "Python 3",
   "language": "python",
   "name": "python3"
  },
  "language_info": {
   "codemirror_mode": {
    "name": "ipython",
    "version": 3
   },
   "file_extension": ".py",
   "mimetype": "text/x-python",
   "name": "python",
   "nbconvert_exporter": "python",
   "pygments_lexer": "ipython3",
   "version": "3.6.8"
  }
 },
 "nbformat": 4,
 "nbformat_minor": 2
}
