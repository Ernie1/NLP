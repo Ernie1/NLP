{
 "cells": [
  {
   "cell_type": "code",
   "execution_count": 1,
   "metadata": {},
   "outputs": [],
   "source": []
  },
  {
   "cell_type": "code",
   "execution_count": 46,
   "metadata": {},
   "outputs": [],
   "source": []
  },
  {
   "cell_type": "code",
   "execution_count": 17,
   "metadata": {},
   "outputs": [],
   "source": [
    "with open('named-entity-recognition/train.words.txt', 'r') as f:\n",
    "    train_words = f.readlines()"
   ]
  },
  {
   "cell_type": "code",
   "execution_count": 22,
   "metadata": {},
   "outputs": [],
   "source": [
    "with open('named-entity-recognition/train.tags.txt', 'r') as f:\n",
    "    train_tags = f.readlines()"
   ]
  },
  {
   "cell_type": "code",
   "execution_count": 43,
   "metadata": {},
   "outputs": [],
   "source": []
  },
  {
   "cell_type": "code",
   "execution_count": null,
   "metadata": {},
   "outputs": [],
   "source": [
    "import os\n",
    "os.environ['STANFORD_NER_PATH'] = '/Users/zjq/remote/NLP/hw17/stanford-ner-2018-10-16'\n",
    "os.environ['STANFORD_MODELS'] = '/Users/zjq/remote/NLP/hw17/stanford-ner-2018-10-16/classifiers'\n",
    "os.environ['CLASSPATH'] = '/Users/zjq/remote/NLP/hw17/stanford-ner-2018-10-16/stanford-ner.jar'\n",
    "from nltk.tag import StanfordNERTagger\n",
    "eng_tagger = StanfordNERTagger('english.conll.4class.distsim.crf.ser.gz')\n",
    "tags = {\n",
    "    'ORGANIZATION': 'ORG',\n",
    "    'PERSON': 'PER',\n",
    "    'LOCATION': 'LOC',\n",
    "    'MISC': 'MISC'\n",
    "}\n",
    "\n",
    "# def stanfordNE2BIO(tagged_sent):\n",
    "#     bio_tagged_sent = []\n",
    "#     prev_tag = \"O\"\n",
    "#     for token, tag in tagged_sent:\n",
    "#         if tag == \"O\": #O\n",
    "#             bio_tagged_sent.append((token, tag))\n",
    "#             prev_tag = tag\n",
    "#             continue\n",
    "#         if tag != \"O\" and prev_tag == \"O\": # Begin NE\n",
    "#             bio_tagged_sent.append((token, \"B-\"+tags[tag]))\n",
    "#             prev_tag = tag\n",
    "#         elif prev_tag != \"O\" and prev_tag == tag: # Inside NE\n",
    "#             bio_tagged_sent.append((token, \"I-\"+tags[tag]))\n",
    "#             prev_tag = tag\n",
    "#         elif prev_tag != \"O\" and prev_tag != tag: # Adjacent NE\n",
    "#             bio_tagged_sent.append((token, \"B-\"+tags[tag]))\n",
    "#             prev_tag = tag\n",
    "\n",
    "#     return bio_tagged_sent\n",
    "def stanfordNE2BIO(tagged_sent):\n",
    "    bio_tagged_sent = []\n",
    "    prev_tag = \"O\"\n",
    "    for token, tag in tagged_sent:\n",
    "        if tag == \"O\": #O\n",
    "            bio_tagged_sent.append(tag)\n",
    "            prev_tag = tag\n",
    "            continue\n",
    "        if tag != \"O\" and prev_tag == \"O\": # Begin NE\n",
    "            bio_tagged_sent.append(\"B-\"+tags[tag])\n",
    "            prev_tag = tag\n",
    "        elif prev_tag != \"O\" and prev_tag == tag: # Inside NE\n",
    "            bio_tagged_sent.append(\"I-\"+tags[tag])\n",
    "            prev_tag = tag\n",
    "        elif prev_tag != \"O\" and prev_tag != tag: # Adjacent NE\n",
    "            bio_tagged_sent.append(\"B-\"+tags[tag])\n",
    "            prev_tag = tag\n",
    "\n",
    "    return ' '.join(bio_tagged_sent)\n",
    "with open('named-entity-recognition/test.words.txt', 'r') as f:\n",
    "    test_words = f.readlines()\n",
    "with open('named-entity-recognition/res.txt', 'w') as f:\n",
    "    f.write('id,label\\n')\n",
    "    for i in range(len(test_words)):\n",
    "        f.write('%d,%s\\n'%(i + 1, stanfordNE2BIO(eng_tagger.tag(test_words[i].split()))))\n",
    "        f.flush()"
   ]
  }
 ],
 "metadata": {
  "kernelspec": {
   "display_name": "Python 3",
   "language": "python",
   "name": "python3"
  },
  "language_info": {
   "codemirror_mode": {
    "name": "ipython",
    "version": 3
   },
   "file_extension": ".py",
   "mimetype": "text/x-python",
   "name": "python",
   "nbconvert_exporter": "python",
   "pygments_lexer": "ipython3",
   "version": "3.7.1"
  }
 },
 "nbformat": 4,
 "nbformat_minor": 2
}
